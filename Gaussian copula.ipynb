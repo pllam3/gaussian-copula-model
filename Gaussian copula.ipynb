{
 "cells": [
  {
   "cell_type": "markdown",
   "metadata": {},
   "source": [
    "Simulation de nombres aléatoires selon une distribution normale avec dépendance"
   ]
  },
  {
   "cell_type": "code",
   "execution_count": 1,
   "metadata": {
    "collapsed": true
   },
   "outputs": [],
   "source": [
    "import numpy as np\n",
    "from scipy.stats import norm\n",
    "from scipy.stats import lognorm\n",
    "\n",
    "n_simul, horizon = 10000, 25\n",
    "mean = [0, 0]\n",
    "cov = [[1, -0.2], [-0.2, 1]]\n",
    "\n",
    "n1, n2 = np.empty([n_simul, horizon]), np.empty([n_simul, horizon])\n",
    "for i in range (horizon):\n",
    "    n1[:,i], n2[:,i] = np.random.multivariate_normal(mean, cov, n_simul).T"
   ]
  },
  {
   "cell_type": "markdown",
   "metadata": {},
   "source": [
    "Transformation des nombres aléatoires en nombres uniformes (0,1) à l'aide de la CDF (Cumulatif distribution function)."
   ]
  },
  {
   "cell_type": "code",
   "execution_count": 2,
   "metadata": {
    "collapsed": true
   },
   "outputs": [],
   "source": [
    "u1, u2 = norm.cdf(n1), norm.cdf(n2)"
   ]
  },
  {
   "cell_type": "markdown",
   "metadata": {},
   "source": [
    "Simulation de nombres aléatoires selon des distributions désirées mais avec une dépendance gaussienne."
   ]
  },
  {
   "cell_type": "code",
   "execution_count": 3,
   "metadata": {
    "collapsed": true
   },
   "outputs": [],
   "source": [
    "# Specify mean and variance of distributions\n",
    "m1 = (1 + 0.032 + 0.04 ** 2 / 2) # Ici 0.032 est le rendement annualisé à long terme. On doit ajusté pour la volatilité.\n",
    "m2 = (1 + 0.0775 + 0.1 ** 2 / 2) # Ici 0.0775 est le rendement annualisé à long terme. On doit ajusté pour la volatilité.\n",
    "v1 = 0.04 ** 2\n",
    "v2 = 0.10 ** 2\n",
    "\n",
    "# mu for variables 1 and 2\n",
    "mu1 = np.log(m1 ** 2 / np.sqrt(v1 + m1 ** 2))\n",
    "mu2 = np.log(m2 ** 2 / np.sqrt(v2 + m2 ** 2))\n",
    "\n",
    "#Sigmas for variables 1 and 2\n",
    "s1 = np.sqrt(np.log((1 + v1 / (m1 ** 2))))\n",
    "s2 = np.sqrt(np.log((1 + v2 / (m2 ** 2))))\n",
    "\n",
    "# PPF is inverse of CDF\n",
    "x1, x2 = np.empty([n_simul,horizon]), np.empty([n_simul,horizon])\n",
    "for i in range(horizon):\n",
    "    x1[:,i] = lognorm.ppf(u1[:,i], s = s1, scale = np.exp(mu1))\n",
    "    x2[:,i] = lognorm.ppf(u2[:,i], s = s2, scale = np.exp(mu2))"
   ]
  },
  {
   "cell_type": "markdown",
   "metadata": {},
   "source": [
    "Construction d'un DataFrame pour écriture dans un fichier csv."
   ]
  },
  {
   "cell_type": "code",
   "execution_count": 4,
   "metadata": {
    "collapsed": true
   },
   "outputs": [],
   "source": [
    "import pandas as pd\n",
    "df1 = pd.DataFrame(data=x1, index =range(1, n_simul + 1), columns=range(1, horizon + 1))\n",
    "df2 = pd.DataFrame(data=x2, index =range(1, n_simul + 1), columns=range(1, horizon + 1))\n",
    "\n",
    "df1.to_csv('bond.csv' , sep=';')\n",
    "df2.to_csv('equity.csv' , sep=';')"
   ]
  }
 ],
 "metadata": {
  "kernelspec": {
   "display_name": "Python 3",
   "language": "python",
   "name": "python3"
  },
  "language_info": {
   "codemirror_mode": {
    "name": "ipython",
    "version": 3
   },
   "file_extension": ".py",
   "mimetype": "text/x-python",
   "name": "python",
   "nbconvert_exporter": "python",
   "pygments_lexer": "ipython3",
   "version": "3.6.3"
  }
 },
 "nbformat": 4,
 "nbformat_minor": 2
}
